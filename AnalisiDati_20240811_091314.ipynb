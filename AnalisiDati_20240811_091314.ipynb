{
 "cells": [
  {
   "cell_type": "markdown",
   "metadata": {},
   "source": [
    "Elisa Stabilini - Matricola: 28326A\n",
    "\n",
    "# Analisi dati - replay buffer\n",
    "\n",
    "In questo notebook presento l'analisi dati relativa al training dell'algoritmo di reinforcement learning avvenuto con l'utilizzo di un replay buffer.\n",
    "Durante il training per ogni step di ogni episodio sono state salvate anche tutte le informazioni relative all'agente e all'ambiente circostante per poter avere un quadro più dettagliato possibile del procedimento di apprendimento."
   ]
  },
  {
   "cell_type": "code",
   "execution_count": 1,
   "metadata": {},
   "outputs": [],
   "source": [
    "import numpy as np\n",
    "import matplotlib.pyplot as plt\n",
    "import pickle\n",
    "import os\n",
    "from pathlib import Path"
   ]
  },
  {
   "cell_type": "markdown",
   "metadata": {},
   "source": [
    "### Analisi dati per "
   ]
  },
  {
   "cell_type": "code",
   "execution_count": 2,
   "metadata": {},
   "outputs": [],
   "source": [
    "TrainedDQLearning_data = Path('/home/elisa/Desktop/Uni/SecondY/RL/SecondPart/SummerClaude/TrainedDQLearning/Data')\n",
    "\n",
    "rewards_file = '/home/elisa/Desktop/Uni/SecondY/RL/SecondPart/SummerClaude/TrainedDQLearning/Data/rewards_20240811_091314.npy'\n",
    "episode_length_file = '/home/elisa/Desktop/Uni/SecondY/RL/SecondPart/SummerClaude/TrainedDQLearning/Data/episode_length_20240811_091314.npy'\n",
    "episode_info_file = '/home/elisa/Desktop/Uni/SecondY/RL/SecondPart/SummerClaude/TrainedDQLearning/Data/episode_info_20240811_091314.pkl'"
   ]
  },
  {
   "cell_type": "code",
   "execution_count": 3,
   "metadata": {},
   "outputs": [],
   "source": [
    "# Load the numpy arrays\n",
    "rewards = np.load(rewards_file)\n",
    "episode_lengths = np.load(episode_length_file)\n",
    "\n",
    "# Load the pickle file\n",
    "with open(episode_info_file, 'rb') as file:\n",
    "    episode_info = pickle.load(file)\n"
   ]
  },
  {
   "cell_type": "code",
   "execution_count": 5,
   "metadata": {},
   "outputs": [
    {
     "name": "stdout",
     "output_type": "stream",
     "text": [
      "1000\n"
     ]
    }
   ],
   "source": [
    "#check episode_info length (should be the same as the number of episode used for training)\n",
    "print(len(episode_info))"
   ]
  },
  {
   "cell_type": "code",
   "execution_count": 7,
   "metadata": {},
   "outputs": [],
   "source": [
    "# Initialize dictionaries to store the data\n",
    "data = {\n",
    "    \"year\": [],\n",
    "    \"budget\": [],\n",
    "    \"sheep_count\": [],\n",
    "    \"wheat_grown\": [],\n",
    "    \"storm_occurred\": [],\n",
    "    \"raw_reward\": []\n",
    "}\n",
    "\n",
    "# Process the data\n",
    "for episode in episode_info:\n",
    "    for key in data.keys():\n",
    "        if key in episode:\n",
    "            data[key].append(episode[key])\n",
    "\n",
    "# Convert lists to numpy arrays\n",
    "for key in data.keys():\n",
    "    data[key] = np.array(data[key])"
   ]
  },
  {
   "cell_type": "markdown",
   "metadata": {},
   "source": [
    "Analysis to do:\n",
    "1. plot episode length (should be 30 yrs for each episode)\n",
    "2. plot the different infos for a random episode (to see the evolution of the training process)\n",
    "3. plot the different infos for a random episode (to see the evolution of the training process)\n",
    "4. plot all the info values for the complete training (all the values for all episodes of the training)\n",
    "5. plot mean values of the info variable for all episodes\n",
    "6. Try to make interactive plot that shows the proceedings of the training\n",
    "\n",
    "**NOTE:** all the plots must be saved in an appropriate way:\n",
    "* plots folder\n",
    "* same name as the model that has been used for the training\n"
   ]
  },
  {
   "cell_type": "markdown",
   "metadata": {},
   "source": [
    "### 1. Episode length and episode rewards analysis"
   ]
  },
  {
   "cell_type": "markdown",
   "metadata": {},
   "source": []
  }
 ],
 "metadata": {
  "kernelspec": {
   "display_name": "final",
   "language": "python",
   "name": "python3"
  },
  "language_info": {
   "codemirror_mode": {
    "name": "ipython",
    "version": 3
   },
   "file_extension": ".py",
   "mimetype": "text/x-python",
   "name": "python",
   "nbconvert_exporter": "python",
   "pygments_lexer": "ipython3",
   "version": "3.10.12"
  }
 },
 "nbformat": 4,
 "nbformat_minor": 2
}
