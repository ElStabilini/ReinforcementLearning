{
 "cells": [
  {
   "cell_type": "markdown",
   "metadata": {},
   "source": [
    "Elisa Stabilini - Matricola: 28326A\n",
    "\n",
    "# Training visualization"
   ]
  },
  {
   "cell_type": "code",
   "execution_count": 1,
   "metadata": {},
   "outputs": [],
   "source": [
    "import numpy as np\n",
    "import matplotlib.pyplot as plt\n",
    "from matplotlib.animation import FuncAnimation"
   ]
  },
  {
   "cell_type": "code",
   "execution_count": 2,
   "metadata": {},
   "outputs": [],
   "source": [
    "def plot_farm_state(data, interval=100):\n",
    "    budget_history = data['budget_history']\n",
    "    sheep_history = data['sheep_history']\n",
    "    wheat_history = data['wheat_history']\n",
    "    rewards = data['rewards']\n",
    "    training_errors = data['training_errors']\n",
    "\n",
    "    fig, ((ax1, ax2), (ax3, ax4)) = plt.subplots(2, 2, figsize=(15, 10))\n",
    "    \n",
    "    def animate(i):\n",
    "        ax1.clear()\n",
    "        ax2.clear()\n",
    "        ax3.clear()\n",
    "        ax4.clear()\n",
    "        \n",
    "        ax1.plot(budget_history[:i])\n",
    "        ax1.set_title('Budget Over Time')\n",
    "        ax1.set_ylabel('Budget (€)')\n",
    "        \n",
    "        ax2.plot(sheep_history[:i])\n",
    "        ax2.set_title('Sheep Count Over Time')\n",
    "        ax2.set_ylabel('Number of Sheep')\n",
    "        \n",
    "        ax3.plot(wheat_history[:i])\n",
    "        ax3.set_title('Wheat Grown Over Time')\n",
    "        ax3.set_ylabel('Wheat Grown')\n",
    "        \n",
    "        ax4.plot(rewards[:i])\n",
    "        ax4.set_title('Rewards per Episode')\n",
    "        ax4.set_ylabel('Total Reward')\n",
    "        \n",
    "        for ax in (ax1, ax2, ax3, ax4):\n",
    "            ax.set_xlabel('Steps')\n",
    "        \n",
    "        plt.tight_layout()\n",
    "\n",
    "    anim = FuncAnimation(fig, animate, frames=len(budget_history), interval=interval, repeat=False)\n",
    "    plt.show()\n",
    "\n",
    "    # Plot training errors separately\n",
    "    plt.figure(figsize=(10, 5))\n",
    "    plt.plot(training_errors)\n",
    "    plt.title('Training Error Over Time')\n",
    "    plt.xlabel('Episodes')\n",
    "    plt.ylabel('Average Error')\n",
    "    plt.show()"
   ]
  },
  {
   "cell_type": "code",
   "execution_count": null,
   "metadata": {},
   "outputs": [],
   "source": [
    "# Load the data and create the visualization\n",
    "data = np.load('training_data.npz')\n",
    "plot_farm_state(data)"
   ]
  }
 ],
 "metadata": {
  "kernelspec": {
   "display_name": "final",
   "language": "python",
   "name": "python3"
  },
  "language_info": {
   "codemirror_mode": {
    "name": "ipython",
    "version": 3
   },
   "file_extension": ".py",
   "mimetype": "text/x-python",
   "name": "python",
   "nbconvert_exporter": "python",
   "pygments_lexer": "ipython3",
   "version": "3.10.12"
  }
 },
 "nbformat": 4,
 "nbformat_minor": 2
}
